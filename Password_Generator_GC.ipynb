{
  "nbformat": 4,
  "nbformat_minor": 0,
  "metadata": {
    "colab": {
      "name": "Password_Generator_GC.ipynb",
      "provenance": [],
      "collapsed_sections": []
    },
    "kernelspec": {
      "name": "python3",
      "display_name": "Python 3"
    },
    "language_info": {
      "name": "python"
    }
  },
  "cells": [
    {
      "cell_type": "code",
      "metadata": {
        "colab": {
          "base_uri": "https://localhost:8080/"
        },
        "id": "8b5rgIWoy2o5",
        "outputId": "684346cf-4e89-4aae-8c19-f0c9bf617f67"
      },
      "source": [
        "from random import sample\n",
        "\n",
        "symbols =\"!@#$%&*()_-+= {}\"\n",
        "lower = \"abcdefghijklmnopqrstuvwxyz\"\n",
        "upper = \"ABCDEFGHIJKLMNOPQRSTUVWXYZ\"\n",
        "number = \"0123456789\"\n",
        "everything = symbols + lower + upper + number\n",
        "\n",
        "\n",
        "length = input(f\"Tell me the lenght of the password you need: \")\n",
        "number = list(number)\n",
        "lenl = list(length)\n",
        "allowed = []\n",
        "\n",
        "for i in lenl:\n",
        "  if i not in number:\n",
        "    print(\"Only numbers allowed\")\n",
        "    break\n",
        "  else:\n",
        "    allowed.append(i)\n",
        "    if lenl == allowed:\n",
        "      length= int(''.join(allowed))\n",
        "      password = \"\".join(random.sample(everything, length))\n",
        "      print(f\"You requested a password with {length} characters\")\n",
        "      print(f\"Your password: {password} \\n\")"
      ],
      "execution_count": 173,
      "outputs": [
        {
          "output_type": "stream",
          "name": "stdout",
          "text": [
            "Tell me the lenght of the password you need: 21\n",
            "You requested a password with 21 characters\n",
            "Your password: qE sZKi%Co@Mu&LRHgD2N \n",
            "\n"
          ]
        }
      ]
    }
  ]
}